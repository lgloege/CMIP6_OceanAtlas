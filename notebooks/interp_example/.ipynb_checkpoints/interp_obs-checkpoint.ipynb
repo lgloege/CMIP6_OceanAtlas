{
 "cells": [
  {
   "cell_type": "code",
   "execution_count": 1,
   "metadata": {},
   "outputs": [],
   "source": [
    "import xarray as xr\n",
    "import pandas as pd\n",
    "import matplotlib.pylab as plt\n",
    "import datetime\n",
    "import cmocean\n",
    "import numpy as np\n",
    "import dateutil\n",
    "import scipy.interpolate as scint"
   ]
  },
  {
   "cell_type": "code",
   "execution_count": 2,
   "metadata": {},
   "outputs": [],
   "source": [
    "ovar_name_list = ['thetao','so','cfc11','sf6','dissic','no3','po4','talk']\n",
    "bgc_ovar_names = ['dissic','no3','po4','talk']\n",
    "\n",
    "\n",
    "model2goldap_ovar_name = {'thetao':'theta',\n",
    "                          'so':'salinity',\n",
    "                          'cfc11':'cfc11',\n",
    "                          'sf6':'sf6',\n",
    "                          'dissic':'tco2',\n",
    "                          'no3':'no3',\n",
    "                          'po4':'po4',\n",
    "                          'talk':'talk',\n",
    "                         }\n",
    "\n",
    "cfactor = {'thetao':1,\n",
    "           'so':1,\n",
    "           'cfc11':1,\n",
    "           'sf6':1,\n",
    "           'dissic':1e3,\n",
    "           'no3':1e3,\n",
    "           'po4':1e3,\n",
    "           'talk':1e4,\n",
    "           }"
   ]
  },
  {
   "cell_type": "code",
   "execution_count": null,
   "metadata": {},
   "outputs": [],
   "source": [
    "glodap = pd.read_csv('../../qc/GLODAPv2.2019_Merged_Master_File.csv')\n",
    "glodap[glodap==-9999]= np.NaN\n",
    "glodap"
   ]
  },
  {
   "cell_type": "code",
   "execution_count": null,
   "metadata": {},
   "outputs": [],
   "source": [
    "coords = pd.read_csv('../../qc/GLODAPv2.2019_COORDS.csv')\n",
    "coords"
   ]
  },
  {
   "cell_type": "code",
   "execution_count": null,
   "metadata": {},
   "outputs": [],
   "source": [
    "expc = pd.read_csv('../../qc/FILTERED_GLODAP_EXPOCODE.csv')\n",
    "expc"
   ]
  },
  {
   "cell_type": "code",
   "execution_count": null,
   "metadata": {},
   "outputs": [],
   "source": [
    "section_model = xr.open_mfdataset(f'../../../sections/{ovar_name}_{model}_*_{expocode}.nc')\n"
   ]
  },
  {
   "cell_type": "code",
   "execution_count": null,
   "metadata": {},
   "outputs": [],
   "source": [
    "section_model"
   ]
  },
  {
   "cell_type": "code",
   "execution_count": null,
   "metadata": {},
   "outputs": [],
   "source": [
    "model = 'CanESM5'\n",
    "ovar_name = 'dissic'\n",
    "expocode = '06AQ20050122'\n",
    "cruise_id = 15\n",
    "\n",
    "# for expocode,cruise_id in zip(expc['EXPOCODE'],expc['ID'])\n",
    "\n",
    "section_obs = glodap[glodap.cruise==cruise_id]\n",
    "\n",
    "section_model = xr.open_mfdataset(f'../../../sections/{ovar_name}_{model}_*_{expocode}.nc')\n",
    "section_obs_lat = np.round(section_obs.groupby('station').mean()['latitude'],decimals=3)\n",
    "station_filter = section_obs_lat[section_obs_lat.isin(np.round(section_model.lat.values,decimals=3))]\n",
    "section_obs = section_obs[section_obs.station.isin(station_filter.index)]\n",
    "section_model['station'] = station_filter.index.values\n",
    "\n",
    "section_obs = section_obs[['station','depth',model2goldap_ovar_name[ovar_name]]]\n",
    "section_obs = section_obs.dropna()"
   ]
  },
  {
   "cell_type": "code",
   "execution_count": null,
   "metadata": {},
   "outputs": [],
   "source": [
    "obs = section_obs[['station','depth',model2goldap_ovar_name[ovar_name]]].dropna()\n",
    "model = section_model\n",
    "\n",
    "interpolated_obs = glodap_to_model(model,obs,ovar_name)"
   ]
  },
  {
   "cell_type": "code",
   "execution_count": null,
   "metadata": {},
   "outputs": [],
   "source": [
    "def glodap_to_model(model,obs,ovar_name):\n",
    "\n",
    "    bgc_ovar_names = ['dissic','no3','po4','talk']\n",
    "\n",
    "    # z distance is much less than distance between stations\n",
    "    scale_factor = model.dx.mean().values*1e3\n",
    "\n",
    "    ovar_obs = obs.iloc[0:,2].values.ravel()\n",
    "    \n",
    "    stations_obs = obs.station.values.ravel()\n",
    "    depth_obs = obs.depth.values.ravel()\n",
    "    \n",
    "\n",
    "    \n",
    "\n",
    "\n",
    "    stations_model = model.station.values.ravel()\n",
    "    depth_model = model.depth.values.ravel()\n",
    "\n",
    "    stations_model,depth_model = np.meshgrid(stations_model,depth_model)\n",
    "\n",
    "    interpolated_obs = scint.griddata((stations_obs, depth_obs/scale_factor),ovar_obs,\n",
    "                              (stations_model, depth_model/scale_factor),\n",
    "                              method='cubic')\n",
    "\n",
    "    interpolated_obs = xr.DataArray(interpolated_obs,dims = model.dims, coords = model.coords,attrs=model[ovar_name].attrs)\n",
    "    interpolated_obs = interpolated_obs.where(~np.isnan(model[ovar_name]))\n",
    "    interpolated_obs = interpolated_obs.to_dataset(name=ovar_name)\n",
    "    \n",
    "    return interpolated_obs"
   ]
  },
  {
   "cell_type": "code",
   "execution_count": null,
   "metadata": {},
   "outputs": [],
   "source": [
    "plt.scatter(obs.station,-obs.depth,c=obs[model2goldap_ovar_name[ovar_name]])\n",
    "plt.xlim(0,176)"
   ]
  },
  {
   "cell_type": "code",
   "execution_count": null,
   "metadata": {},
   "outputs": [],
   "source": [
    "cax = plt.pcolormesh(interpolated_obs.station,-interpolated_obs.depth,interpolated_obs.dissic)\n",
    "plt.colorbar()\n",
    "plt.xlim(0,176)"
   ]
  },
  {
   "cell_type": "code",
   "execution_count": null,
   "metadata": {},
   "outputs": [],
   "source": [
    "delta = model.dissic*1e3-interpolated_obs.dissic\n",
    "plt.pcolormesh(interpolated_obs.station,-interpolated_obs.depth,delta.T,vmin=-100,vmax=100,cmap=cmocean.cm.balance)\n",
    "plt.colorbar()\n",
    "plt.xlim(0,176)"
   ]
  }
 ],
 "metadata": {
  "kernelspec": {
   "display_name": "Python 3",
   "language": "python",
   "name": "python3"
  },
  "language_info": {
   "codemirror_mode": {
    "name": "ipython",
    "version": 3
   },
   "file_extension": ".py",
   "mimetype": "text/x-python",
   "name": "python",
   "nbconvert_exporter": "python",
   "pygments_lexer": "ipython3",
   "version": "3.7.3"
  }
 },
 "nbformat": 4,
 "nbformat_minor": 4
}
