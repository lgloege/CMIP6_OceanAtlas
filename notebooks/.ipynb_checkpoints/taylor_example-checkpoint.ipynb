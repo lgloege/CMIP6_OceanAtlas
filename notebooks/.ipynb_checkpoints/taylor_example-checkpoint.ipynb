{
 "cells": [
  {
   "cell_type": "markdown",
   "metadata": {},
   "source": [
    "# Notebook to make Taylor diagrams"
   ]
  },
  {
   "cell_type": "code",
   "execution_count": null,
   "metadata": {},
   "outputs": [],
   "source": []
  },
  {
   "cell_type": "code",
   "execution_count": 100,
   "metadata": {},
   "outputs": [],
   "source": [
    "# Make other folders visible\n",
    "import sys\n",
    "sys.path.insert(1, '/home/jovyan/CMIP6_OceanAtlas/utils')\n",
    "\n",
    "# imports\n",
    "from taylor_diagram import TaylorDiagram\n",
    "import matplotlib.pyplot as plt\n",
    "import intake\n",
    "import matplotlib.pyplot as plt"
   ]
  },
  {
   "cell_type": "code",
   "execution_count": 101,
   "metadata": {},
   "outputs": [],
   "source": [
    "import xarray as xr\n",
    "import pandas as pd\n",
    "import cartopy as cart\n",
    "import matplotlib.pylab as plt\n",
    "from matplotlib import cm\n",
    "import datetime\n",
    "import cmocean\n",
    "import numpy as np\n",
    "import dateutil"
   ]
  },
  {
   "cell_type": "markdown",
   "metadata": {},
   "source": [
    "# Load data"
   ]
  },
  {
   "cell_type": "code",
   "execution_count": 102,
   "metadata": {},
   "outputs": [],
   "source": [
    "# model params \n",
    "# will need to do the same for obs\n",
    "var = 'dissic'\n",
    "model = 'CanESM5'\n",
    "member = 'r10i1p1f1'\n",
    "section = '06AQ20050122'\n",
    "root_dir = '/home/jovyan/sections'\n",
    "\n",
    "# load obs dic\n",
    "fl_obs = f'{root_dir}/{var}_{model}_{member}_{section}.nc'\n",
    "ds_obs = xr.open_dataset(fl_obs)\n",
    "\n",
    "# load model dic\n",
    "fl_mod = f'{root_dir}/{var}_{model}_{member}_{section}.nc'\n",
    "ds_mod = xr.open_dataset(fl_mod)\n",
    "\n",
    "# rename variable to differentiatte obs and model\n",
    "ds_obs = ds_obs.rename({f'{var}': f'{var}_obs'})\n",
    "ds_mod = ds_mod.rename({f'{var}': f'{var}_mod'})"
   ]
  },
  {
   "cell_type": "markdown",
   "metadata": {},
   "source": [
    "# Put in dataframe"
   ]
  },
  {
   "cell_type": "markdown",
   "metadata": {},
   "source": [
    "# Statistics"
   ]
  },
  {
   "cell_type": "code",
   "execution_count": 103,
   "metadata": {},
   "outputs": [],
   "source": [
    "dict_params = { 'var' : 'dissic',\n",
    "                'model': 'CanESM5',\n",
    "                'member': 'r10i1p1f1',\n",
    "                'section': '06AQ20050122',\n",
    "                'root_dir': '/home/jovyan/sections'}"
   ]
  },
  {
   "cell_type": "code",
   "execution_count": 104,
   "metadata": {},
   "outputs": [],
   "source": [
    "def get_stats(ds_obs, ds_mod, dict_params=None):\n",
    "    '''\n",
    "    get_stats(ds_obs, ds_mod, var)\n",
    "    make a dictionary of statistics \n",
    "    \n",
    "    Input\n",
    "    =========\n",
    "    ds_obs : xarray datarray of model\n",
    "    ds_mod : xarray datarray of obs\n",
    "    var : variable name you are looking at\n",
    "    \n",
    "    Output\n",
    "    ==========\n",
    "    stats_dict : dictionary of statistics comparing model and obsrvations \n",
    "    \n",
    "    '''\n",
    "    var = dict_params['var']\n",
    "    model = dict_params['model']\n",
    "    member = dict_params['member']\n",
    "    section = dict_params['section']\n",
    "    root_dr = dict_params['root_dir']\n",
    "\n",
    "    # load obs dic\n",
    "    fl_obs = f'{root_dir}/{var}_{model}_{member}_{section}.nc'\n",
    "    ds_obs = xr.open_dataset(fl_obs)\n",
    "\n",
    "    # load model dic\n",
    "    fl_mod = f'{root_dir}/{var}_{model}_{member}_{section}.nc'\n",
    "    ds_mod = xr.open_dataset(fl_mod)\n",
    "\n",
    "    # rename variable to differentiatte obs and model\n",
    "    ds_obs = ds_obs.rename({f'{var}': f'{var}_obs'})\n",
    "    ds_mod = ds_mod.rename({f'{var}': f'{var}_mod'})\n",
    "\n",
    "\n",
    "    # merge xarray datasets\n",
    "    ds_merge = ds_obs.merge(ds_mod)\n",
    "\n",
    "    # make a dataframe and drop nans\n",
    "    ds_merge_nonan = ds_merge.to_dataframe().dropna()\n",
    "\n",
    "    # Calculate various statistics \n",
    "    bias = ds_merge_nonan[f'{var}_mod'].mean() - ds_merge_nonan[f'{var}_obs'].mean()\n",
    "    rmse = ((ds_merge_nonan[f'{var}_obs'] - ds_merge_nonan[f'{var}_mod']) ** 2).mean() ** .5\n",
    "    aae = np.abs(ds_merge_nonan[f'{var}_obs'] - ds_merge_nonan[f'{var}_mod']).mean()\n",
    "    corr = ds_merge_nonan[[f'{var}_obs', f'{var}_mod']].corr(method='pearson').iloc[0,1]\n",
    "    std_obs = ds_merge_nonan[[f'{var}_obs', f'{var}_mod']].std()[f'{var}_obs']\n",
    "    std_mod = ds_merge_nonan[[f'{var}_obs', f'{var}_mod']].std()[f'{var}_mod']\n",
    "    std_norm = ds_merge_nonan[[f'{var}_obs', f'{var}_mod']].std()[f'{var}_mod'] /\\\n",
    "               ds_merge_nonan[[f'{var}_obs', f'{var}_mod']].std()[f'{var}_obs']\n",
    "\n",
    "    # Put stats in dictionary\n",
    "    stats_dict = {'var': var,\n",
    "                 'model': model,\n",
    "                 'member': member,\n",
    "                 'section': section,\n",
    "                 'corr': corr,\n",
    "                 'std_obs' : std_obs,\n",
    "                 'std_mod': std_mod, \n",
    "                 'std_norm': std_norm,\n",
    "                 'rmse': rmse, \n",
    "                 'bias': bias}\n",
    "\n",
    "    return stats_dict"
   ]
  },
  {
   "cell_type": "code",
   "execution_count": 105,
   "metadata": {},
   "outputs": [],
   "source": [
    "stats_dict = get_stats(ds_obs, ds_mod, dict_params=dict_params)"
   ]
  },
  {
   "cell_type": "code",
   "execution_count": 106,
   "metadata": {},
   "outputs": [
    {
     "data": {
      "text/plain": [
       "{'var': 'dissic',\n",
       " 'model': 'CanESM5',\n",
       " 'member': 'r10i1p1f1',\n",
       " 'section': '06AQ20050122',\n",
       " 'corr': 1.0,\n",
       " 'std_obs': 0.028664458233092216,\n",
       " 'std_mod': 0.028664458233092216,\n",
       " 'std_norm': 1.0,\n",
       " 'rmse': 0.0,\n",
       " 'bias': 0.0}"
      ]
     },
     "execution_count": 106,
     "metadata": {},
     "output_type": "execute_result"
    }
   ],
   "source": [
    "stats_dict"
   ]
  },
  {
   "cell_type": "code",
   "execution_count": 107,
   "metadata": {},
   "outputs": [],
   "source": [
    "# dictionary of model colors\n",
    "color_dict = {'CanESM5': 'g',\n",
    "              'CESM':'b'}"
   ]
  },
  {
   "cell_type": "code",
   "execution_count": 108,
   "metadata": {},
   "outputs": [],
   "source": [
    "model_list = ['CanESM2']\n",
    "samples = [stats_dict['corr'], stats_dict['std_norm'], stats_dict['model'], color_dict[stats_dict['model']]]\n",
    "#samples = [[10, 0.8 , \"IPSL\", 'b'],\n",
    "#           [12, 0.6 , \"NASA\", 'g']]"
   ]
  },
  {
   "cell_type": "code",
   "execution_count": 109,
   "metadata": {},
   "outputs": [
    {
     "data": {
      "text/plain": [
       "[1.0, 1.0, 'CanESM5', 'g']"
      ]
     },
     "execution_count": 109,
     "metadata": {},
     "output_type": "execute_result"
    }
   ],
   "source": [
    "samples"
   ]
  },
  {
   "cell_type": "markdown",
   "metadata": {},
   "source": [
    "# Taylor diagram"
   ]
  },
  {
   "cell_type": "code",
   "execution_count": 99,
   "metadata": {},
   "outputs": [
    {
     "data": {
      "text/plain": [
       "<matplotlib.legend.Legend at 0x7f5299ef3f98>"
      ]
     },
     "execution_count": 99,
     "metadata": {},
     "output_type": "execute_result"
    },
    {
     "data": {
      "image/png": "[encoded data removed]",
      "text/plain": [
       "<Figure size 432x288 with 1 Axes>"
      ]
     },
     "metadata": {
      "needs_background": "light"
     },
     "output_type": "display_data"
    }
   ],
   "source": [
    "# Reference options \n",
    "ref_std = 1\n",
    "ref_color = 'r'\n",
    "ref_label = 'Reference'\n",
    "\n",
    "# Samples list (maybe make a dictionary)\n",
    "# -----------------------------------\n",
    "#         std   rho   model  color\n",
    "# -----------------------------------\n",
    "samples = [[stats_dict['corr'], stats_dict['std_norm'], stats_dict['model'], color_dict[stats_dict['model']]],\n",
    "          [0.5, 0.5, 'CESM', 'b']]\n",
    "\n",
    "#===============================\n",
    "# Generate Taylor Diagram\n",
    "#===============================\n",
    "fig = plt.figure()\n",
    "\n",
    "# generate Taylor diagram object \n",
    "dia = TaylorDiagram(ref_std, label=ref_label, extend=False, fig=fig)\n",
    "\n",
    "# mark reference point as a red star\n",
    "dia.samplePoints[0].set_color(ref_color)  \n",
    "\n",
    "# add models to Taylor diagram\n",
    "for i, (stddev, corrcoef, name, col) in enumerate(samples):\n",
    "    dia.add_sample(stddev, corrcoef,\n",
    "                   marker='o', ms=10, ls='',\n",
    "                   mfc=col, mec='k',\n",
    "                   label=name)\n",
    "\n",
    "#===============================\n",
    "# RMSE contours \n",
    "# Levels : number RMSE lines \n",
    "# color  : color of contours gray\n",
    "#===============================\n",
    "# Add RMS contours, and label them\n",
    "contours = dia.add_contours(levels=3, colors='0.5') \n",
    "\n",
    "# add labelto RMSE contours \n",
    "dia.ax.clabel(contours, inline=1, fontsize=10, fmt='%.0f')\n",
    "\n",
    "# Add grid lines \n",
    "dia.add_grid()                              \n",
    "\n",
    "# Put ticks outward\n",
    "dia._ax.axis[:].major_ticks.set_tick_out(True)  \n",
    "\n",
    "# Add a figure legend and title\n",
    "fig.legend(dia.samplePoints,\n",
    "           [ p.get_label() for p in dia.samplePoints ],\n",
    "           numpoints=1, prop=dict(size='small'), loc='upper right')"
   ]
  },
  {
   "cell_type": "markdown",
   "metadata": {},
   "source": [
    "# Section difference"
   ]
  },
  {
   "cell_type": "code",
   "execution_count": null,
   "metadata": {},
   "outputs": [],
   "source": [
    "from matplotlib.ticker import (MultipleLocator, FormatStrFormatter,\n",
    "                               AutoMinorLocator)\n",
    "\n",
    "font = {'family' : 'normal',\n",
    "        'weight' : 'normal',\n",
    "        'size'   : 8}\n",
    "\n",
    "plt.rc('font', **font)\n",
    "\n",
    "\n",
    "\n",
    "minvalue_conc,maxvalue_conc,cmap,nsteps,labelstep,cfactor = cprops[ovar.name]\n",
    "\n",
    "cstep = abs(minvalue_conc-maxvalue_conc)/nsteps\n",
    "\n",
    "cbarstep = abs(minvalue_conc-maxvalue_conc)/(nsteps/4);\n",
    "\n",
    "contour_levs = np.arange(minvalue_conc,maxvalue_conc+cstep,cstep)\n",
    "\n",
    "contour_labels = np.arange(minvalue_conc,maxvalue_conc+cstep,labelstep)\n",
    "\n",
    "fig, (ax1, ax2) = plt.subplots(2, 1, sharex=True)\n",
    "fig.dpi=300\n",
    "fig.set_figheight(4)\n",
    "fig.set_figwidth(2.5)\n",
    "ax1.set_title(f'{section.long_name}',fontsize=5)\n",
    "cax = ax1.contourf(section.station,section.depth,section.T*cfactor,levels=contour_levs,extend='both',cmap=cmap)\n",
    "ax2.contourf(section.station,section.depth,section.T*1e3,levels=contour_levs,extend='both',cmap=cmap)\n",
    "\n",
    "cs1 = ax1.contour(section.station,section.depth,section.T*cfactor,levels=contour_levs,\n",
    "                  extend='both',\n",
    "                  colors='0.6',\n",
    "                  linewidths=0.2)\n",
    "ax1.clabel(cs1,fontsize=4,fmt='%1.f')\n",
    "\n",
    "cs2 = ax2.contour(section.station,section.depth,section.T*cfactor,\n",
    "                  levels=contour_levs,extend='both',\n",
    "                  colors='0.6',\n",
    "                  linewidths=0.2)\n",
    "ax2.clabel(cs2,fontsize=4, fmt='%1.f')\n",
    "\n",
    "ax1.xaxis.set_minor_locator(AutoMinorLocator())\n",
    "ax1.yaxis.set_minor_locator(AutoMinorLocator())\n",
    "ax2.yaxis.set_minor_locator(AutoMinorLocator())\n",
    "\n",
    "for axis in ['top','bottom','left','right']:\n",
    "    ax1.spines[axis].set_linewidth(0.5)\n",
    "    ax2.spines[axis].set_linewidth(0.5)\n",
    "    \n",
    "ax1.tick_params(which='both', width=0.5)\n",
    "ax2.tick_params(which='both', width=0.5)\n",
    "\n",
    "ax1.set_facecolor('k')\n",
    "ax2.set_facecolor('k')\n",
    "ax1.set_ylim(1000,0)\n",
    "ax2.set_ylim(6000,1000)\n",
    "\n",
    "cbar_ax = fig.add_axes([0.95, 0.2, 0.04, 0.6])\n",
    "cbar = fig.colorbar(cax, cax=cbar_ax,extend='both')\n",
    "cbar.ax.tick_params(labelsize=5)\n",
    "cbar.ax.tick_params(which='both', width=0.5)\n",
    "cbar.outline.set_linewidth(0.5)"
   ]
  },
  {
   "cell_type": "markdown",
   "metadata": {},
   "source": [
    "# Old pieces of code"
   ]
  },
  {
   "cell_type": "code",
   "execution_count": null,
   "metadata": {},
   "outputs": [],
   "source": [
    "# load station information from csv file\n",
    "#df = pd.read_csv('../qc/GLODAPv2.2019_COORDS.csv')\n",
    "\n",
    "#df = df.dropna()\n",
    "#df = df.reset_index().drop('Unnamed: 0',axis=1)\n",
    "\n",
    "#df_obs = pd.read_csv('../data/GLODAPv2.2019_Merged_Master_File.csv')\n",
    "\n",
    "#df_obs.head()\n",
    "\n",
    "\n",
    "# Model\n",
    "#url = \"../catalogs/pangeo-cmip6.json\"\n",
    "#col = intake.open_esm_datastore(url)\n",
    "#col\n",
    "\n",
    "#cat = col.search(experiment_id=['historical'], \n",
    "#                 table_id='Omon', \n",
    "#                 variable_id='dissic',\n",
    "#                 grid_label='gn')\n",
    "#cat.df\n",
    "\n",
    "#dset_dict = cat.to_dataset_dict(zarr_kwargs={'consolidated': True, 'decode_times': False},\n",
    "#                                cdf_kwargs={'chunks': {}, 'decode_times': False})\n",
    "\n",
    "#ds = dset_dict['CMIP.CCCma.CanESM5.historical.Omon.gn']\n",
    "\n",
    "#ds['dissic'].squeeze().isel(lev=0).std('time')"
   ]
  }
 ],
 "metadata": {
  "kernelspec": {
   "display_name": "Python 3",
   "language": "python",
   "name": "python3"
  },
  "language_info": {
   "codemirror_mode": {
    "name": "ipython",
    "version": 3
   },
   "file_extension": ".py",
   "mimetype": "text/x-python",
   "name": "python",
   "nbconvert_exporter": "python",
   "pygments_lexer": "ipython3",
   "version": "3.7.3"
  }
 },
 "nbformat": 4,
 "nbformat_minor": 4
}
